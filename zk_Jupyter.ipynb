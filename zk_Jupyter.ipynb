{
 "cells": [
  {
   "cell_type": "markdown",
   "metadata": {},
   "source": [
    "## Hashing \n",
    "\n",
    "If you want to send your DOB without revealing your DOB you could hash it.  However, 2 problems, the same DOB will produce the same hash so every time it's sent an observer could infer your identity.  \n",
    "\n",
    "Adding a random public value to the private DOB, which is different each time, THEN hashing those combined values will give you a different has each time.\n",
    "\n",
    "Important:\n",
    "In any of the examples below don't use any real private data.  Only use dummy data, this is just an example.\n",
    "\n",
    "Here's an example:"
   ]
  },
  {
   "cell_type": "code",
   "execution_count": 1,
   "metadata": {
    "jupyter": {
     "source_hidden": true
    },
    "tags": []
   },
   "outputs": [
    {
     "name": "stdout",
     "output_type": "stream",
     "text": [
      "Type a \"private\" value:\n"
     ]
    },
    {
     "name": "stdin",
     "output_type": "stream",
     "text": [
      " test\n"
     ]
    },
    {
     "name": "stdout",
     "output_type": "stream",
     "text": [
      "Your private value: test\n",
      "Type a \"public\" value:\n"
     ]
    },
    {
     "name": "stdin",
     "output_type": "stream",
     "text": [
      " do\n"
     ]
    },
    {
     "name": "stdout",
     "output_type": "stream",
     "text": [
      "Your public value: do\n",
      "The combined values: testdo\n",
      "Your sha256 hash:\n",
      "9db71544182977cee206027605ad9eb50a5f429c7db824a3e79d533d985b2f0b\n"
     ]
    }
   ],
   "source": [
    "## function that takes in a string and returns a sha256 hash of it\n",
    "from Crypto.Hash import SHA256\n",
    "print('Type a \"private\" value:')\n",
    "pv = input()\n",
    "print('Your private value: ' + pv)\n",
    "print('Type a \"public\" value:')\n",
    "pb = input()\n",
    "print('Your public value: ' + pb)\n",
    "a = pv + pb\n",
    "print('The combined values: ' + a)\n",
    "print('Your sha256 hash:')\n",
    "h = SHA256.new()\n",
    "h.update(a.encode('utf-8'))\n",
    "print(h.hexdigest())"
   ]
  }
 ],
 "metadata": {
  "kernelspec": {
   "display_name": "Python 3 (ipykernel)",
   "language": "python",
   "name": "python3"
  },
  "language_info": {
   "codemirror_mode": {
    "name": "ipython",
    "version": 3
   },
   "file_extension": ".py",
   "mimetype": "text/x-python",
   "name": "python",
   "nbconvert_exporter": "python",
   "pygments_lexer": "ipython3",
   "version": "3.10.4"
  }
 },
 "nbformat": 4,
 "nbformat_minor": 4
}
