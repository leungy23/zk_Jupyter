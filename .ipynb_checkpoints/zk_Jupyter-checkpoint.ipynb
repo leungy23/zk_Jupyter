{
 "cells": [
  {
   "cell_type": "markdown",
   "metadata": {},
   "source": [
    "## Hashing \n",
    "\n",
    "If you want to send your DOB without revealing your DOB you could hash it.  However, 2 problems, the same DOB will produce the same hash so every time it's sent an observer could infer your identity.  \n",
    "\n",
    "Adding a random public value to the private DOB, which is different each time, THEN hashing those combined values will give you a different has each time.\n",
    "\n",
    "Important:\n",
    "In any of the examples below don't use any real private data.  Only use dummy data, this is just an example.\n",
    "\n",
    "Here's an example:"
   ]
  },
  {
   "cell_type": "code",
   "execution_count": null,
   "metadata": {
    "tags": []
   },
   "outputs": [],
   "source": [
    "## function that takes in a string and returns a sha256 hash of it\n",
    "from Crypto.Hash import SHA256\n",
    "print('Type a \"private\" value:')\n",
    "pv = input()\n",
    "print('Your private value: ' + pv)\n",
    "print('Type a \"public\" value:')\n",
    "pb = input()\n",
    "print('Your public value: ' + pb)\n",
    "a = pv + pb\n",
    "print('The combined values: ' + a)\n",
    "print('Your sha256 hash:')\n",
    "h = SHA256.new()\n",
    "h.update(a.encode('utf-8'))\n",
    "print(h.hexdigest())"
   ]
  },
  {
   "cell_type": "markdown",
   "metadata": {},
   "source": [
    "## Limitations of only hashing\n",
    "\n",
    "TODO - describe why this isn't the answer\n",
    "\n",
    "## Polynomials\n",
    "\n",
    "TODO - explain why polynomials are helpful"
   ]
  },
  {
   "cell_type": "code",
   "execution_count": 1,
   "metadata": {
    "tags": []
   },
   "outputs": [
    {
     "ename": "ModuleNotFoundError",
     "evalue": "No module named 'matlablib'",
     "output_type": "error",
     "traceback": [
      "\u001b[0;31m---------------------------------------------------------------------------\u001b[0m",
      "\u001b[0;31mModuleNotFoundError\u001b[0m                       Traceback (most recent call last)",
      "Cell \u001b[0;32mIn[1], line 2\u001b[0m\n\u001b[1;32m      1\u001b[0m \u001b[38;5;28;01mimport\u001b[39;00m \u001b[38;5;21;01mnumpy\u001b[39;00m \u001b[38;5;28;01mas\u001b[39;00m \u001b[38;5;21;01mnp\u001b[39;00m\n\u001b[0;32m----> 2\u001b[0m \u001b[38;5;28;01mimport\u001b[39;00m \u001b[38;5;21;01mmatlablib\u001b[39;00m\u001b[38;5;21;01m.\u001b[39;00m\u001b[38;5;21;01mpyplot\u001b[39;00m \u001b[38;5;28;01mas\u001b[39;00m \u001b[38;5;21;01mplt\u001b[39;00m\n\u001b[1;32m      4\u001b[0m num_coeffs \u001b[38;5;241m=\u001b[39m \u001b[38;5;28mint\u001b[39m(\u001b[38;5;28minput\u001b[39m(\u001b[38;5;124m\"\u001b[39m\u001b[38;5;124mEnter number of coefficients:\u001b[39m\u001b[38;5;124m\"\u001b[39m))\n\u001b[1;32m      6\u001b[0m coeffs \u001b[38;5;241m=\u001b[39m []\n",
      "\u001b[0;31mModuleNotFoundError\u001b[0m: No module named 'matlablib'"
     ]
    }
   ],
   "source": [
    "import numpy as np\n",
    "import matplotlib.pyplot as plt\n",
    "\n",
    "num_coeffs = int(input(\"Enter number of coefficients:\"))\n",
    "\n",
    "coeffs = []\n",
    "for i in range(num_coeffs):\n",
    "    coeff = int(input(\"Enter the coefficient for x^\" + str(i) + \": \"))\n",
    "    coeffs.append(coeff)\n",
    "    \n",
    "def poly(x):\n",
    "    return sum(coeff * x**i for i, coeff in enumerate(coeffs))\n",
    "\n",
    "x_val = np.linspace(-10, 10, 1000)\n",
    "y_val = poly(x_val)\n",
    "plt.plot(x_val, y_val)\n",
    "plt.show()"
   ]
  },
  {
   "cell_type": "code",
   "execution_count": null,
   "metadata": {},
   "outputs": [],
   "source": []
  }
 ],
 "metadata": {
  "kernelspec": {
   "display_name": "Python 3 (ipykernel)",
   "language": "python",
   "name": "python3"
  },
  "language_info": {
   "codemirror_mode": {
    "name": "ipython",
    "version": 3
   },
   "file_extension": ".py",
   "mimetype": "text/x-python",
   "name": "python",
   "nbconvert_exporter": "python",
   "pygments_lexer": "ipython3",
   "version": "3.10.4"
  }
 },
 "nbformat": 4,
 "nbformat_minor": 4
}
